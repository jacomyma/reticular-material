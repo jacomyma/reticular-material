{
  "nbformat": 4,
  "nbformat_minor": 0,
  "metadata": {
    "colab": {
      "private_outputs": true,
      "provenance": []
    },
    "kernelspec": {
      "name": "python3",
      "display_name": "Python 3"
    },
    "language_info": {
      "name": "python"
    }
  },
  "cells": [
    {
      "cell_type": "code",
      "execution_count": null,
      "metadata": {
        "id": "FtWAPhecx3RM"
      },
      "outputs": [],
      "source": [
        "import networkx as nx\n",
        "\n",
        "# Define the k-clique size for this experiment\n",
        "k = 100  # Adjust this value as needed\n",
        "# Define \"big\"\n",
        "bigFactor = 5\n",
        "\n",
        "# Define clique sizes\n",
        "sizeBig = bigFactor*k\n",
        "\n",
        "# Create an empty graph\n",
        "G = nx.Graph()\n",
        "\n",
        "# Create and add nodes for each clique\n",
        "clique_A = [f\"A{i}\" for i in range(sizeBig)]\n",
        "cliqueChain = [f\"B{i}\" for i in range(k)]\n",
        "clique_C = [f\"C{i}\" for i in range(sizeBig)]\n",
        "\n",
        "for clique in [clique_A, cliqueChain, clique_C]:\n",
        "  G.add_nodes_from(clique)\n",
        "  # Add edges within each clique to create complete subgraphs\n",
        "  G.add_edges_from([(n1, n2) for n1 in clique for n2 in clique if n1 != n2])\n",
        "\n",
        "# Make a big chain of k-cliques\n",
        "for i in range(sizeBig-k):\n",
        "  # New node\n",
        "  n = f\"N{i}\"\n",
        "  G.add_node(n)\n",
        "  # Connect to k-1 previous nodes\n",
        "  G.add_edges_from([(n, n2) for n2 in cliqueChain[-(k-1):]])\n",
        "  # Add the new node to the list\n",
        "  cliqueChain.append(n)\n",
        "\n",
        "# Make pairs of nodes from clique A and the beginning of the chain\n",
        "nodes_A = clique_A[:k-2]\n",
        "nodes_Ba = cliqueChain[:k-2]\n",
        "AB_pairs = list(zip(nodes_A, nodes_Ba))\n",
        "\n",
        "# Same for B and C\n",
        "nodes_Bc = cliqueChain[-(k-2):]\n",
        "nodes_C = clique_C[:k-2]\n",
        "BC_pairs = list(zip(nodes_Bc, nodes_C))\n",
        "\n",
        "# Add them as pairs to merge\n",
        "pairs_to_merge = AB_pairs + BC_pairs\n",
        "\n",
        "# Function to merge two nodes\n",
        "def merge_nodes(graph, node1, node2):\n",
        "    # Add edges incident to node1 to node2\n",
        "    edges_to_add = [(node2, neighbor) for neighbor in graph.neighbors(node1)]\n",
        "    graph.add_edges_from(edges_to_add)\n",
        "\n",
        "    # Remove node1\n",
        "    graph.remove_node(node1)\n",
        "\n",
        "# Merge nodes from the pairs_to_merge list\n",
        "for pair in pairs_to_merge:\n",
        "    merge_nodes(G, pair[0], pair[1])"
      ]
    },
    {
      "cell_type": "code",
      "source": [
        "from collections import defaultdict\n",
        "\n",
        "# Compute k-clique communities\n",
        "communities = list(nx.algorithms.community.k_clique_communities(G, k))\n",
        "\n",
        "# Map the nodes to their communities\n",
        "mapping = defaultdict(lambda: 'None')\n",
        "\n",
        "for i, community in enumerate(communities):\n",
        "    value = 'Community ' + str(i)\n",
        "    for node in community:\n",
        "        if mapping[node] == 'None':\n",
        "            mapping[node] = value\n",
        "        else:\n",
        "            mapping[node] = 'Multiple'  # If a node is in multiple communities\n",
        "\n",
        "nx.set_node_attributes(G, mapping, 'community')"
      ],
      "metadata": {
        "id": "Uyo9e4zuAFVE"
      },
      "execution_count": null,
      "outputs": []
    },
    {
      "cell_type": "code",
      "source": [
        "# Export the graph as a GraphML file\n",
        "nx.write_graphml(G, \"cluster_as_bridge.graphml\")"
      ],
      "metadata": {
        "id": "1gn-49NFC1il"
      },
      "execution_count": null,
      "outputs": []
    },
    {
      "cell_type": "code",
      "source": [
        "# Visualize the network\n",
        "import matplotlib.pyplot as plt\n",
        "\n",
        "# Apply Force-directed layout\n",
        "pos = nx.spring_layout(G, scale=10.0, iterations=250)\n",
        "\n",
        "# Draw the graph with nodes colored according to the \"community\" attribute\n",
        "community_colors = {'None':'lightgrey', 'Community 0': 'red', 'Community 1': 'blue', 'Community 2': 'green', 'Multiple': 'black'}\n",
        "node_colors = [community_colors[mapping[node]] for node in G.nodes()]\n",
        "\n",
        "# Draw the graph with equal aspect ratio\n",
        "plt.figure(figsize=(8, 8))\n",
        "nx.draw(G, pos, with_labels=False, node_size=10, node_color=node_colors, edge_color=\"lightgrey\")\n",
        "plt.gca().set_aspect('equal', adjustable='box')\n",
        "plt.show()"
      ],
      "metadata": {
        "id": "e0OlCwez53fU"
      },
      "execution_count": null,
      "outputs": []
    },
    {
      "cell_type": "code",
      "source": [],
      "metadata": {
        "id": "v2caK_OdC6rR"
      },
      "execution_count": null,
      "outputs": []
    }
  ]
}